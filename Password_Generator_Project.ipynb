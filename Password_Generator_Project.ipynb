{
 "cells": [
  {
   "cell_type": "markdown",
   "metadata": {},
   "source": [
    "### Case\n",
    "1. Must be 8 characters\n",
    "2. At least 1 Upper case\n",
    "3. At least 1 lower case\n",
    "4. At least 1 number\n",
    "5. At least 1 special character \n"
   ]
  },
  {
   "cell_type": "code",
   "execution_count": 73,
   "metadata": {},
   "outputs": [
    {
     "name": "stdout",
     "output_type": "stream",
     "text": [
      "Enter the length of password :\"1\"\n",
      "Invalid input\n"
     ]
    }
   ],
   "source": [
    "import string \n",
    "import random\n",
    "if __name__==\"__main__\":\n",
    "    lower_case=string.ascii_lowercase\n",
    "    upper_case=string.ascii_uppercase\n",
    "    digits=string.digits\n",
    "    special_char=string.punctuation\n",
    "    try:\n",
    "        plen=int(input(\"Enter the length of password :\"))\n",
    "        print(\"Your password is: \",end='')\n",
    "        print(\"\".join(s[0:plen]))\n",
    "    except:\n",
    "        print(\"Invalid input\") \n",
    "    s=[]\n",
    "    s.extend(list(lower_case))\n",
    "    s.extend(list(upper_case))\n",
    "    s.extend(list(digits))\n",
    "    s.extend(list(special_char))\n",
    "    random.shuffle(s)"
   ]
  },
  {
   "cell_type": "code",
   "execution_count": null,
   "metadata": {},
   "outputs": [],
   "source": []
  },
  {
   "cell_type": "code",
   "execution_count": null,
   "metadata": {},
   "outputs": [],
   "source": []
  }
 ],
 "metadata": {
  "kernelspec": {
   "display_name": "Python 3",
   "language": "python",
   "name": "python3"
  },
  "language_info": {
   "codemirror_mode": {
    "name": "ipython",
    "version": 3
   },
   "file_extension": ".py",
   "mimetype": "text/x-python",
   "name": "python",
   "nbconvert_exporter": "python",
   "pygments_lexer": "ipython3",
   "version": "3.8.3"
  }
 },
 "nbformat": 4,
 "nbformat_minor": 4
}
