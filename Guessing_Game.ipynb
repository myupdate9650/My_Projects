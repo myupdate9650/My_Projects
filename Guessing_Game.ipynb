{
 "cells": [
  {
   "cell_type": "code",
   "execution_count": 2,
   "metadata": {},
   "outputs": [
    {
     "name": "stdout",
     "output_type": "stream",
     "text": [
      "Enter any number b/w 1-10 :4\n",
      "Too low:--->Try Again\n",
      "Enter any number b/w 1-10 :5\n",
      "Too low:--->Try Again\n",
      "Enter any number b/w 1-10 :6\n",
      "Too low:--->Try Again\n",
      "Enter any number b/w 1-10 :7\n",
      "Too low:--->Try Again\n",
      "Enter any number b/w 1-10 :8\n",
      "You win and you have gussed in 5 times\n"
     ]
    }
   ],
   "source": [
    "import random\n",
    "random_number=random.randint(1,10)\n",
    "counter =0\n",
    "while True:\n",
    "    try:\n",
    "        user_input=int(input(\"Enter any number b/w 1-10 :\"))\n",
    "    except:\n",
    "        print(\"You have passed wrong input please pass int only\")\n",
    "    if user_input==random_number:\n",
    "        counter+=1\n",
    "        print(f\"You win and you have gussed in {counter} times\")\n",
    "        break\n",
    "    elif  user_input>random_number:\n",
    "        print(\"Too high:--->\",end='')\n",
    "        print(\"Try Again\")\n",
    "    elif  user_input<random_number:\n",
    "        print(\"Too low:--->\",end='')\n",
    "        print(\"Try Again\")\n",
    "    counter+=1"
   ]
  },
  {
   "cell_type": "code",
   "execution_count": null,
   "metadata": {},
   "outputs": [],
   "source": []
  }
 ],
 "metadata": {
  "kernelspec": {
   "display_name": "Python 3",
   "language": "python",
   "name": "python3"
  },
  "language_info": {
   "codemirror_mode": {
    "name": "ipython",
    "version": 3
   },
   "file_extension": ".py",
   "mimetype": "text/x-python",
   "name": "python",
   "nbconvert_exporter": "python",
   "pygments_lexer": "ipython3",
   "version": "3.8.3"
  }
 },
 "nbformat": 4,
 "nbformat_minor": 4
}
